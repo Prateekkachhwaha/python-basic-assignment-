{
  "nbformat": 4,
  "nbformat_minor": 0,
  "metadata": {
    "colab": {
      "provenance": []
    },
    "kernelspec": {
      "name": "python3",
      "display_name": "Python 3"
    },
    "language_info": {
      "name": "python"
    }
  },
  "cells": [
    {
      "cell_type": "markdown",
      "source": [
        "# python basic assignment\n",
        "\n",
        "question 1. Explain the key features of Python that make it a popular choice for programming.\n",
        "- It helps in effectively handling data.\n",
        "- It helps in automation of tasks.\n",
        "- It has advance analystics capabilities.\n",
        "- IT provides data visualization feature which helps in better understanding of data.\n",
        "- It has huge open source library.\n",
        "- It is easy to learn and easy to write.\n",
        "- It enhances carrer opportunity.\n",
        "- It helps in scalibility.\n",
        "- It is cost efficient.\n",
        "- It has huge active community.\n",
        "\n",
        "\n",
        "question 2. Describe the role of predefined keywords in Python and provide examples of how they are used in a program.\n",
        "- Keywords are predifined reserved words in python that have special features.\n",
        "- We cannot use keywords as identifiers (variables,function etc.)\n",
        "- Keywords are case senstive (for example a = 10 and A =10 now python will see both of them differently these are two different variable for pythhon.)\n",
        "- Example of how they are used in a program:-\n",
        "   \n"
      ],
      "metadata": {
        "id": "a_Aoxy9AkMXS"
      }
    },
    {
      "cell_type": "code",
      "execution_count": 26,
      "metadata": {
        "colab": {
          "base_uri": "https://localhost:8080/"
        },
        "id": "zeRw0pF3gR8c",
        "outputId": "636144b3-eecd-4e53-cafe-1343f4fbce56"
      },
      "outputs": [
        {
          "output_type": "stream",
          "name": "stdout",
          "text": [
            "example 1 output :a is greater than b\n",
            "example 2 output :b is greater than a\n",
            "a is greater then 100\n"
          ]
        }
      ],
      "source": [
        "#question 2.\n",
        "#example of keywords\n",
        "\n",
        "\n",
        "#example-1\n",
        "# [if]keyword example\n",
        "a=10\n",
        "b=2\n",
        "if a>b:\n",
        "    print(\"example 1 output :a is greater than b\")\n",
        "\n",
        "\n",
        "#example-2\n",
        "# [ifelse ]\n",
        "a=10\n",
        "b=20\n",
        "if a>b:\n",
        "  print(\"a is greater than b\")\n",
        "else:\n",
        "  print(\"example 2 output :b is greater than a\")\n",
        "\n",
        "#example-3\n",
        "#[elif]\n",
        "a=10000\n",
        "if a<100:\n",
        "  print(\"a is lesser then 100\")\n",
        "elif a>100:\n",
        "  print(\"a is greater then 100\")\n",
        "else:\n",
        "    print(\"a is equal to 100\")\n",
        ""
      ]
    },
    {
      "cell_type": "markdown",
      "source": [
        "question 3. Compare and contrast mutable and immutable objects in Python with examples.\n",
        "- mutuable(changeable)are those iteams which can be changed after writing wheare immutable(non changeable)are those which we can't change  after writing.\n",
        "- mutuable items requires more storage as it keeps on changing  where immutuable items requires less storage as no further chages are done after writing.\n",
        "- mutuable items are slow as compared to immutuable items\n",
        "- example of mutuable items are-lists,dictionaries etc.\n",
        "  example of immutuable items are-string.\n",
        "\n",
        "  mutuable object example\n"
      ],
      "metadata": {
        "id": "1Is5u-q5ykce"
      }
    },
    {
      "cell_type": "code",
      "source": [
        "#question-3 examples\n",
        "\n",
        "#example of mutuable objects\n",
        "list_con= [1,2,3,4,\"prateek\"]\n",
        "list_con[3]=\"c\"\n",
        "print(list_con)"
      ],
      "metadata": {
        "colab": {
          "base_uri": "https://localhost:8080/"
        },
        "id": "luYfBJnBukJ9",
        "outputId": "3e48ea5c-c32e-4e9d-c125-ce8905a0fa34"
      },
      "execution_count": 31,
      "outputs": [
        {
          "output_type": "stream",
          "name": "stdout",
          "text": [
            "[1, 2, 3, 'c', 'prateek']\n"
          ]
        }
      ]
    },
    {
      "cell_type": "markdown",
      "source": [
        "  immutuable object example"
      ],
      "metadata": {
        "id": "apYCx3ZHDvsc"
      }
    },
    {
      "cell_type": "code",
      "source": [
        "string_con=\"prateek\"\n",
        "string_con[3]=\"b\"\n",
        "print(string_con) #the code will not work becuase string is an immutuable object"
      ],
      "metadata": {
        "colab": {
          "base_uri": "https://localhost:8080/",
          "height": 176
        },
        "id": "7zq0amDS01wX",
        "outputId": "01550584-3a3c-4364-acdd-d7fe63209cc5"
      },
      "execution_count": 32,
      "outputs": [
        {
          "output_type": "error",
          "ename": "TypeError",
          "evalue": "'str' object does not support item assignment",
          "traceback": [
            "\u001b[0;31m---------------------------------------------------------------------------\u001b[0m",
            "\u001b[0;31mTypeError\u001b[0m                                 Traceback (most recent call last)",
            "\u001b[0;32m<ipython-input-32-ff6b7ce9fcf3>\u001b[0m in \u001b[0;36m<cell line: 0>\u001b[0;34m()\u001b[0m\n\u001b[1;32m      1\u001b[0m \u001b[0mstring_con\u001b[0m\u001b[0;34m=\u001b[0m\u001b[0;34m\"prateek\"\u001b[0m\u001b[0;34m\u001b[0m\u001b[0;34m\u001b[0m\u001b[0m\n\u001b[0;32m----> 2\u001b[0;31m \u001b[0mstring_con\u001b[0m\u001b[0;34m[\u001b[0m\u001b[0;36m3\u001b[0m\u001b[0;34m]\u001b[0m\u001b[0;34m=\u001b[0m\u001b[0;34m\"b\"\u001b[0m\u001b[0;34m\u001b[0m\u001b[0;34m\u001b[0m\u001b[0m\n\u001b[0m\u001b[1;32m      3\u001b[0m \u001b[0mprint\u001b[0m\u001b[0;34m(\u001b[0m\u001b[0mstring_con\u001b[0m\u001b[0;34m)\u001b[0m\u001b[0;34m\u001b[0m\u001b[0;34m\u001b[0m\u001b[0m\n",
            "\u001b[0;31mTypeError\u001b[0m: 'str' object does not support item assignment"
          ]
        }
      ]
    },
    {
      "cell_type": "markdown",
      "source": [
        "question 4. Discuss the different types of operators in Python and provide examples of how they are used.\n",
        "- operators are special symbols and keywords used to do any special actions on variables and numbers.\n",
        "-there are several types of operators:\n",
        "1.arthmatic operators\n",
        " - these operators are used when we have to do some arthmatic actions on variables   \n",
        "\n",
        "\n"
      ],
      "metadata": {
        "id": "JnMKiGCM3T8-"
      }
    },
    {
      "cell_type": "code",
      "source": [
        "#arthmatic operators\n",
        "a=2\n",
        "b=3\n",
        "print(a+b)"
      ],
      "metadata": {
        "colab": {
          "base_uri": "https://localhost:8080/"
        },
        "id": "jww4kLjC8YNx",
        "outputId": "09cb2857-4fca-4c49-ea5c-33f1c3e538bc"
      },
      "execution_count": 21,
      "outputs": [
        {
          "output_type": "stream",
          "name": "stdout",
          "text": [
            "5\n"
          ]
        }
      ]
    },
    {
      "cell_type": "markdown",
      "source": [
        "2.comparision operators\n",
        "- it is used when we have to compare variables or numbers in order to make a decision."
      ],
      "metadata": {
        "id": "Ra5l-pkzBgU2"
      }
    },
    {
      "cell_type": "code",
      "source": [
        "# comparision operator\n",
        "2==2"
      ],
      "metadata": {
        "colab": {
          "base_uri": "https://localhost:8080/"
        },
        "id": "6xhS0J6SBeCr",
        "outputId": "6cf5b55b-6850-47bf-ef32-33fce15f8b13"
      },
      "execution_count": 27,
      "outputs": [
        {
          "output_type": "execute_result",
          "data": {
            "text/plain": [
              "True"
            ]
          },
          "metadata": {},
          "execution_count": 27
        }
      ]
    },
    {
      "cell_type": "markdown",
      "source": [
        "3.logical operators\n",
        "- they are symbols or keywords used to produce a boolean value based on logical rules. for example - and,or,not true,not false.\n",
        ""
      ],
      "metadata": {
        "id": "UiMoHEN5Bt5Q"
      }
    },
    {
      "cell_type": "code",
      "source": [
        "#logical operator\n",
        "1 or 1"
      ],
      "metadata": {
        "colab": {
          "base_uri": "https://localhost:8080/"
        },
        "id": "ctZhmVEuBrDl",
        "outputId": "f0adbede-94e2-4f74-d3b9-f1e4200b5944"
      },
      "execution_count": 28,
      "outputs": [
        {
          "output_type": "execute_result",
          "data": {
            "text/plain": [
              "1"
            ]
          },
          "metadata": {},
          "execution_count": 28
        }
      ]
    },
    {
      "cell_type": "markdown",
      "source": [
        "4.membership operators\n",
        "- it is used to find out wether any a specific inofrmation like a letter or a variable is present or not.\n"
      ],
      "metadata": {
        "id": "-bd3icRQCLWR"
      }
    },
    {
      "cell_type": "code",
      "source": [
        "# membership operator\n",
        "a=\"pwskills\"\n",
        "\"p\"in a"
      ],
      "metadata": {
        "colab": {
          "base_uri": "https://localhost:8080/"
        },
        "id": "l5F2pUQLB60S",
        "outputId": "8d7e07d1-6640-4101-88af-6530b5b539b9"
      },
      "execution_count": 29,
      "outputs": [
        {
          "output_type": "execute_result",
          "data": {
            "text/plain": [
              "True"
            ]
          },
          "metadata": {},
          "execution_count": 29
        }
      ]
    },
    {
      "cell_type": "markdown",
      "source": [
        "5.assignment operators\n",
        "-  it is used when we have to assign an information like string ,integer to an variable"
      ],
      "metadata": {
        "id": "kGibWC-9CH-G"
      }
    },
    {
      "cell_type": "code",
      "source": [
        "#assignment operator\n",
        "a=5\n",
        "b=7"
      ],
      "metadata": {
        "id": "FpPk5hARCHon"
      },
      "execution_count": 30,
      "outputs": []
    },
    {
      "cell_type": "markdown",
      "source": [
        "question 5.Explain the concept of type casting in Python with example.\n",
        "- data casting is the process by whichh one date type is converted into another data type in python.\n",
        "-it can be done in 2 ways:-\n",
        "1. implicit type\n",
        "- in this python automatically converts it"
      ],
      "metadata": {
        "id": "m7s2db68CoCS"
      }
    },
    {
      "cell_type": "code",
      "source": [
        "#example of implicit\n",
        "a=5 #integer\n",
        "b=10.50 #float\n",
        "c= a+b\n",
        "print(c)# here python automatically converted integer into float\n",
        "print(type(c))"
      ],
      "metadata": {
        "colab": {
          "base_uri": "https://localhost:8080/"
        },
        "id": "H4R8CLkjB_aD",
        "outputId": "8b339858-1d47-4bfb-e990-3c4beea2932c"
      },
      "execution_count": 33,
      "outputs": [
        {
          "output_type": "stream",
          "name": "stdout",
          "text": [
            "15.5\n",
            "<class 'float'>\n"
          ]
        }
      ]
    },
    {
      "cell_type": "markdown",
      "source": [
        "2. explicit type\n",
        "- it is the type in which we have to write the code manually to convert it into another data type."
      ],
      "metadata": {
        "id": "CmpuRPFlGSiD"
      }
    },
    {
      "cell_type": "code",
      "source": [
        "#explicit type example\n",
        "a=\"3\"#it is string for python\n",
        "a=int(a) #converted it into int\n",
        "type(a)"
      ],
      "metadata": {
        "colab": {
          "base_uri": "https://localhost:8080/"
        },
        "id": "tQKtfygHGQMT",
        "outputId": "a5753567-8568-478e-b099-955ee7171acf"
      },
      "execution_count": 36,
      "outputs": [
        {
          "output_type": "execute_result",
          "data": {
            "text/plain": [
              "int"
            ]
          },
          "metadata": {},
          "execution_count": 36
        }
      ]
    },
    {
      "cell_type": "markdown",
      "source": [
        "question 6. How do conditional statements work in Python? Illustrate with examples.\n",
        "- conditional statements works allows the program to give you output based on the given conditions\n",
        "- there are mainly 4 conditonal statements :\n",
        "1. if statement\n",
        "- excutes a block of code only if the condition is true"
      ],
      "metadata": {
        "id": "08hoUaP1G6AQ"
      }
    },
    {
      "cell_type": "code",
      "source": [
        "# [if statement example]\n",
        "a=10\n",
        "b=2\n",
        "if a>b:\n",
        "    print(\"example 1 output :a is greater than b\")"
      ],
      "metadata": {
        "colab": {
          "base_uri": "https://localhost:8080/"
        },
        "id": "DJ8FsPbRGk_l",
        "outputId": "0a2bd515-af8a-4e13-a18c-b8bc84603495"
      },
      "execution_count": 37,
      "outputs": [
        {
          "output_type": "stream",
          "name": "stdout",
          "text": [
            "example 1 output :a is greater than b\n"
          ]
        }
      ]
    },
    {
      "cell_type": "markdown",
      "source": [
        "2.if else statement\n",
        "- excutes one block of code if the condition is true and another if the condition is false"
      ],
      "metadata": {
        "id": "t9vweNY-LHd1"
      }
    },
    {
      "cell_type": "code",
      "source": [
        "# [ifelse ]\n",
        "a=10\n",
        "b=20\n",
        "if a>b:\n",
        "  print(\"a is greater than b\")\n",
        "else:\n",
        "  print(\"example 2 output :b is greater than a\")"
      ],
      "metadata": {
        "colab": {
          "base_uri": "https://localhost:8080/"
        },
        "id": "8eoYMbWaLaZk",
        "outputId": "28805a09-edcd-4bc9-d437-1f0ecc6b85d2"
      },
      "execution_count": 38,
      "outputs": [
        {
          "output_type": "stream",
          "name": "stdout",
          "text": [
            "example 2 output :b is greater than a\n"
          ]
        }
      ]
    },
    {
      "cell_type": "markdown",
      "source": [
        "3. if-elif-else condition\n",
        "- when there re multiple conditions"
      ],
      "metadata": {
        "id": "CHKXzLqeLbsW"
      }
    },
    {
      "cell_type": "code",
      "source": [
        "#[if-elif-else]\n",
        "a=10000\n",
        "if a<100:\n",
        "  print(\"a is lesser then 100\")\n",
        "elif a>100:\n",
        "  print(\"a is greater then 100\")\n",
        "else:\n",
        "    print(\"a is equal to 100\")"
      ],
      "metadata": {
        "id": "ZF_DwQ0zLDtA"
      },
      "execution_count": null,
      "outputs": []
    },
    {
      "cell_type": "markdown",
      "source": [
        "4.nested condtiom\n",
        "- it gives you function where you can add multiple if statements in a code.\n"
      ],
      "metadata": {
        "id": "Vb37jw-3L0Cn"
      }
    },
    {
      "cell_type": "code",
      "source": [
        "#nested condition example\n",
        "is_vip=\"TRUE\"\n",
        "age=70\n",
        "if is_vip:\n",
        "  if age>=18:\n",
        "    if age<65:\n",
        "      print(\"you are vip sir\")\n",
        "    else:\n",
        "        print(\"you are senior vip sir\")\n",
        "  else:\n",
        "    print(\"you are not adult\")\n",
        "else:\n",
        "  print(\"you are not vip sir you will be charged normally\")"
      ],
      "metadata": {
        "colab": {
          "base_uri": "https://localhost:8080/"
        },
        "id": "nkYJdxzJMFam",
        "outputId": "0f6ec9ab-2565-40f2-8fba-580e8ac789e1"
      },
      "execution_count": 40,
      "outputs": [
        {
          "output_type": "stream",
          "name": "stdout",
          "text": [
            "you are senior vip sir\n"
          ]
        }
      ]
    },
    {
      "cell_type": "markdown",
      "source": [
        "question 7.Describe the different types of loops in Python and their use cases with examples.\n",
        "- loop statements allows you to excute a block of code repeatedly\n",
        "- loop is for two types:\n",
        "1.while loop\n",
        "- it allows you to repeatedly ecute a block of code until a conditon is met"
      ],
      "metadata": {
        "id": "VwG73LYwN1sw"
      }
    },
    {
      "cell_type": "code",
      "source": [
        "#while loop statement\n",
        "n=8\n",
        "i=1\n",
        "while n>i:\n",
        "  print(i)\n",
        "  i=i+1"
      ],
      "metadata": {
        "colab": {
          "base_uri": "https://localhost:8080/"
        },
        "id": "Emv7sFBANMkZ",
        "outputId": "07070b29-84e1-4510-f178-ff6531631f52"
      },
      "execution_count": 41,
      "outputs": [
        {
          "output_type": "stream",
          "name": "stdout",
          "text": [
            "1\n",
            "2\n",
            "3\n",
            "4\n",
            "5\n",
            "6\n",
            "7\n"
          ]
        }
      ]
    },
    {
      "cell_type": "markdown",
      "source": [
        "2. for loop statement\n",
        "-it illerate over a sequence of elements\n"
      ],
      "metadata": {
        "id": "X7VLSK30OvZ1"
      }
    },
    {
      "cell_type": "code",
      "source": [
        "#for loop\n",
        "for t in range(11):\n",
        "  print(t)\n",
        ""
      ],
      "metadata": {
        "colab": {
          "base_uri": "https://localhost:8080/"
        },
        "id": "MKFq6DiJOtSZ",
        "outputId": "d4ef2551-b7f9-4c04-b05f-c7a7c957c1bd"
      },
      "execution_count": 44,
      "outputs": [
        {
          "output_type": "stream",
          "name": "stdout",
          "text": [
            "0\n",
            "1\n",
            "2\n",
            "3\n",
            "4\n",
            "5\n",
            "6\n",
            "7\n",
            "8\n",
            "9\n",
            "10\n"
          ]
        }
      ]
    },
    {
      "cell_type": "code",
      "source": [],
      "metadata": {
        "id": "0-dEIfGBPeN5"
      },
      "execution_count": null,
      "outputs": []
    }
  ]
}